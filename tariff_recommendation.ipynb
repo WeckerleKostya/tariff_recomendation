{
 "cells": [
  {
   "cell_type": "markdown",
   "id": "b3ca5200",
   "metadata": {},
   "source": [
    "# ОПИСАНИЕ ПРОЕКТА\n",
    "\n",
    "Оператор мобильной связи **«Мегалайн»** выяснил: многие клиенты пользуются архивными тарифами. Они хотят построить систему, способную проанализировать поведение клиентов и предложить пользователям новый тариф: «Смарт» или «Ультра».\n",
    "\n",
    "В вашем распоряжении данные о поведении клиентов, которые уже перешли на эти тарифы (из проекта курса «Статистический анализ данных»). Нужно построить модель для задачи классификации, которая выберет подходящий тариф. Предобработка данных не понадобится — вы её уже сделали.\n",
    "\n",
    "**ЦЕЛЬ**: постройть **модель с максимально большим значением `accuracy`**. \n",
    "\n",
    "**ЗАДАЧИ**: \n",
    "* Довести долю правильных ответов по крайней мере до 0.75. \n",
    "* Проверьте accuracy на тестовой выборке самостоятельно."
   ]
  },
  {
   "cell_type": "markdown",
   "id": "3b67d08e",
   "metadata": {},
   "source": [
    "# ШАГ 1. Открыть файл."
   ]
  },
  {
   "cell_type": "markdown",
   "id": "d7df7ec0",
   "metadata": {},
   "source": [
    "## 1.1 Импортируем необходимые библиотеки и функции"
   ]
  },
  {
   "cell_type": "code",
   "execution_count": 180,
   "id": "04df549e",
   "metadata": {},
   "outputs": [],
   "source": [
    "import pandas as pd\n",
    "from sklearn.model_selection import train_test_split\n",
    "from sklearn.tree import DecisionTreeClassifier\n",
    "from sklearn.ensemble import RandomForestClassifier\n",
    "from sklearn.linear_model import LogisticRegression\n",
    "from sklearn.metrics import accuracy_score\n",
    "from sklearn.metrics import confusion_matrix\n",
    "from sklearn.metrics import precision_score\n",
    "from sklearn.metrics import recall_score\n",
    "import random"
   ]
  },
  {
   "cell_type": "markdown",
   "id": "039ca598",
   "metadata": {},
   "source": [
    "## 1.2 Выгрузка файла с проверкой"
   ]
  },
  {
   "cell_type": "code",
   "execution_count": 181,
   "id": "f701c73d",
   "metadata": {},
   "outputs": [
    {
     "data": {
      "text/html": [
       "<div>\n",
       "<style scoped>\n",
       "    .dataframe tbody tr th:only-of-type {\n",
       "        vertical-align: middle;\n",
       "    }\n",
       "\n",
       "    .dataframe tbody tr th {\n",
       "        vertical-align: top;\n",
       "    }\n",
       "\n",
       "    .dataframe thead th {\n",
       "        text-align: right;\n",
       "    }\n",
       "</style>\n",
       "<table border=\"1\" class=\"dataframe\">\n",
       "  <thead>\n",
       "    <tr style=\"text-align: right;\">\n",
       "      <th></th>\n",
       "      <th>calls</th>\n",
       "      <th>minutes</th>\n",
       "      <th>messages</th>\n",
       "      <th>mb_used</th>\n",
       "      <th>is_ultra</th>\n",
       "    </tr>\n",
       "  </thead>\n",
       "  <tbody>\n",
       "    <tr>\n",
       "      <th>0</th>\n",
       "      <td>40.0</td>\n",
       "      <td>311.90</td>\n",
       "      <td>83.0</td>\n",
       "      <td>19915.42</td>\n",
       "      <td>0</td>\n",
       "    </tr>\n",
       "    <tr>\n",
       "      <th>1</th>\n",
       "      <td>85.0</td>\n",
       "      <td>516.75</td>\n",
       "      <td>56.0</td>\n",
       "      <td>22696.96</td>\n",
       "      <td>0</td>\n",
       "    </tr>\n",
       "    <tr>\n",
       "      <th>2</th>\n",
       "      <td>77.0</td>\n",
       "      <td>467.66</td>\n",
       "      <td>86.0</td>\n",
       "      <td>21060.45</td>\n",
       "      <td>0</td>\n",
       "    </tr>\n",
       "    <tr>\n",
       "      <th>3</th>\n",
       "      <td>106.0</td>\n",
       "      <td>745.53</td>\n",
       "      <td>81.0</td>\n",
       "      <td>8437.39</td>\n",
       "      <td>1</td>\n",
       "    </tr>\n",
       "    <tr>\n",
       "      <th>4</th>\n",
       "      <td>66.0</td>\n",
       "      <td>418.74</td>\n",
       "      <td>1.0</td>\n",
       "      <td>14502.75</td>\n",
       "      <td>0</td>\n",
       "    </tr>\n",
       "  </tbody>\n",
       "</table>\n",
       "</div>"
      ],
      "text/plain": [
       "   calls  minutes  messages   mb_used  is_ultra\n",
       "0   40.0   311.90      83.0  19915.42         0\n",
       "1   85.0   516.75      56.0  22696.96         0\n",
       "2   77.0   467.66      86.0  21060.45         0\n",
       "3  106.0   745.53      81.0   8437.39         1\n",
       "4   66.0   418.74       1.0  14502.75         0"
      ]
     },
     "metadata": {},
     "output_type": "display_data"
    }
   ],
   "source": [
    "try:\n",
    "    data_original = pd.read_csv('users_behavior.csv')\n",
    "    display(data_original.head())\n",
    "except:\n",
    "    data_original = pd.read_csv('/datasets/users_behavior.csv')\n",
    "    display(data_original.head())"
   ]
  },
  {
   "cell_type": "code",
   "execution_count": 182,
   "id": "59bd9aa3",
   "metadata": {},
   "outputs": [],
   "source": [
    "data = data_original"
   ]
  },
  {
   "cell_type": "code",
   "execution_count": 183,
   "id": "4973b20c",
   "metadata": {},
   "outputs": [
    {
     "name": "stdout",
     "output_type": "stream",
     "text": [
      "<class 'pandas.core.frame.DataFrame'>\n",
      "RangeIndex: 3214 entries, 0 to 3213\n",
      "Data columns (total 5 columns):\n",
      " #   Column    Non-Null Count  Dtype  \n",
      "---  ------    --------------  -----  \n",
      " 0   calls     3214 non-null   float64\n",
      " 1   minutes   3214 non-null   float64\n",
      " 2   messages  3214 non-null   float64\n",
      " 3   mb_used   3214 non-null   float64\n",
      " 4   is_ultra  3214 non-null   int64  \n",
      "dtypes: float64(4), int64(1)\n",
      "memory usage: 125.7 KB\n"
     ]
    }
   ],
   "source": [
    "data.info()"
   ]
  },
  {
   "cell_type": "code",
   "execution_count": 184,
   "id": "e3e7d1d7",
   "metadata": {},
   "outputs": [
    {
     "data": {
      "text/plain": [
       "0    0.693528\n",
       "1    0.306472\n",
       "Name: is_ultra, dtype: float64"
      ]
     },
     "execution_count": 184,
     "metadata": {},
     "output_type": "execute_result"
    }
   ],
   "source": [
    "data.is_ultra.value_counts()/len(data)"
   ]
  },
  {
   "cell_type": "code",
   "execution_count": 185,
   "id": "2350cff5",
   "metadata": {},
   "outputs": [
    {
     "data": {
      "text/html": [
       "<div>\n",
       "<style scoped>\n",
       "    .dataframe tbody tr th:only-of-type {\n",
       "        vertical-align: middle;\n",
       "    }\n",
       "\n",
       "    .dataframe tbody tr th {\n",
       "        vertical-align: top;\n",
       "    }\n",
       "\n",
       "    .dataframe thead th {\n",
       "        text-align: right;\n",
       "    }\n",
       "</style>\n",
       "<table border=\"1\" class=\"dataframe\">\n",
       "  <thead>\n",
       "    <tr style=\"text-align: right;\">\n",
       "      <th></th>\n",
       "      <th>calls</th>\n",
       "      <th>minutes</th>\n",
       "      <th>messages</th>\n",
       "      <th>mb_used</th>\n",
       "      <th>is_ultra</th>\n",
       "    </tr>\n",
       "  </thead>\n",
       "  <tbody>\n",
       "    <tr>\n",
       "      <th>calls</th>\n",
       "      <td>1.000000</td>\n",
       "      <td>0.982083</td>\n",
       "      <td>0.177385</td>\n",
       "      <td>0.286442</td>\n",
       "      <td>0.207122</td>\n",
       "    </tr>\n",
       "    <tr>\n",
       "      <th>minutes</th>\n",
       "      <td>0.982083</td>\n",
       "      <td>1.000000</td>\n",
       "      <td>0.173110</td>\n",
       "      <td>0.280967</td>\n",
       "      <td>0.206955</td>\n",
       "    </tr>\n",
       "    <tr>\n",
       "      <th>messages</th>\n",
       "      <td>0.177385</td>\n",
       "      <td>0.173110</td>\n",
       "      <td>1.000000</td>\n",
       "      <td>0.195721</td>\n",
       "      <td>0.203830</td>\n",
       "    </tr>\n",
       "    <tr>\n",
       "      <th>mb_used</th>\n",
       "      <td>0.286442</td>\n",
       "      <td>0.280967</td>\n",
       "      <td>0.195721</td>\n",
       "      <td>1.000000</td>\n",
       "      <td>0.198568</td>\n",
       "    </tr>\n",
       "    <tr>\n",
       "      <th>is_ultra</th>\n",
       "      <td>0.207122</td>\n",
       "      <td>0.206955</td>\n",
       "      <td>0.203830</td>\n",
       "      <td>0.198568</td>\n",
       "      <td>1.000000</td>\n",
       "    </tr>\n",
       "  </tbody>\n",
       "</table>\n",
       "</div>"
      ],
      "text/plain": [
       "             calls   minutes  messages   mb_used  is_ultra\n",
       "calls     1.000000  0.982083  0.177385  0.286442  0.207122\n",
       "minutes   0.982083  1.000000  0.173110  0.280967  0.206955\n",
       "messages  0.177385  0.173110  1.000000  0.195721  0.203830\n",
       "mb_used   0.286442  0.280967  0.195721  1.000000  0.198568\n",
       "is_ultra  0.207122  0.206955  0.203830  0.198568  1.000000"
      ]
     },
     "execution_count": 185,
     "metadata": {},
     "output_type": "execute_result"
    }
   ],
   "source": [
    "data.corr()"
   ]
  },
  {
   "cell_type": "markdown",
   "id": "756d4b57",
   "metadata": {},
   "source": [
    "Можно убрать переменную с количеством звонков, поскольку она сильно коррелирует с количеством минут. Оставляем минуты,поскольку они входят в тариф напрямую, т. е. это более релевантная характеристики оценки интенсивности использования мобиьной связи."
   ]
  },
  {
   "cell_type": "code",
   "execution_count": 186,
   "id": "2468f712",
   "metadata": {},
   "outputs": [
    {
     "data": {
      "text/html": [
       "<div>\n",
       "<style scoped>\n",
       "    .dataframe tbody tr th:only-of-type {\n",
       "        vertical-align: middle;\n",
       "    }\n",
       "\n",
       "    .dataframe tbody tr th {\n",
       "        vertical-align: top;\n",
       "    }\n",
       "\n",
       "    .dataframe thead th {\n",
       "        text-align: right;\n",
       "    }\n",
       "</style>\n",
       "<table border=\"1\" class=\"dataframe\">\n",
       "  <thead>\n",
       "    <tr style=\"text-align: right;\">\n",
       "      <th></th>\n",
       "      <th>minutes</th>\n",
       "      <th>messages</th>\n",
       "      <th>mb_used</th>\n",
       "      <th>is_ultra</th>\n",
       "    </tr>\n",
       "  </thead>\n",
       "  <tbody>\n",
       "    <tr>\n",
       "      <th>0</th>\n",
       "      <td>311.90</td>\n",
       "      <td>83.0</td>\n",
       "      <td>19915.42</td>\n",
       "      <td>0</td>\n",
       "    </tr>\n",
       "    <tr>\n",
       "      <th>1</th>\n",
       "      <td>516.75</td>\n",
       "      <td>56.0</td>\n",
       "      <td>22696.96</td>\n",
       "      <td>0</td>\n",
       "    </tr>\n",
       "    <tr>\n",
       "      <th>2</th>\n",
       "      <td>467.66</td>\n",
       "      <td>86.0</td>\n",
       "      <td>21060.45</td>\n",
       "      <td>0</td>\n",
       "    </tr>\n",
       "    <tr>\n",
       "      <th>3</th>\n",
       "      <td>745.53</td>\n",
       "      <td>81.0</td>\n",
       "      <td>8437.39</td>\n",
       "      <td>1</td>\n",
       "    </tr>\n",
       "    <tr>\n",
       "      <th>4</th>\n",
       "      <td>418.74</td>\n",
       "      <td>1.0</td>\n",
       "      <td>14502.75</td>\n",
       "      <td>0</td>\n",
       "    </tr>\n",
       "  </tbody>\n",
       "</table>\n",
       "</div>"
      ],
      "text/plain": [
       "   minutes  messages   mb_used  is_ultra\n",
       "0   311.90      83.0  19915.42         0\n",
       "1   516.75      56.0  22696.96         0\n",
       "2   467.66      86.0  21060.45         0\n",
       "3   745.53      81.0   8437.39         1\n",
       "4   418.74       1.0  14502.75         0"
      ]
     },
     "execution_count": 186,
     "metadata": {},
     "output_type": "execute_result"
    }
   ],
   "source": [
    "data.drop('calls', axis = 1, inplace = True)\n",
    "data.head()"
   ]
  },
  {
   "cell_type": "markdown",
   "id": "508c70cd",
   "metadata": {},
   "source": [
    "# ШАГ 2. Разделение данных на обучающую, валидационную и тестовую подвыборки."
   ]
  },
  {
   "cell_type": "code",
   "execution_count": 187,
   "id": "1c4f46b8",
   "metadata": {},
   "outputs": [],
   "source": [
    "# сохраним в переменную псевдорандомное число\n",
    "rnd_st = 12345"
   ]
  },
  {
   "cell_type": "code",
   "execution_count": 188,
   "id": "4401cb69",
   "metadata": {},
   "outputs": [],
   "source": [
    "# Поделим наш датасет на части\n",
    "# df_train = 60%, df_valid и df_test = 20%\n",
    "# Тем самым наши выборки будут поделены три части 3:1:1\n",
    "data_train, data_valid = train_test_split(data, \n",
    "                                          test_size=0.4, \n",
    "                                          random_state=rnd_st)\n",
    "\n",
    "data_valid, data_test = train_test_split(data_valid, \n",
    "                                         test_size=0.5, \n",
    "                                         random_state=rnd_st)\n"
   ]
  },
  {
   "cell_type": "markdown",
   "id": "08e111c6",
   "metadata": {},
   "source": [
    "После того, как мы поделили наши данные на подвыборки, необходимо посмотреть насколько наши выборки репрезентативны, т. е. похожи на нашу условную генеральную совокукпность. Поскольку отбор в рамках алгоритмов нельзя считать полноценно случайным, то может оказаться, что, например, в обучающую выборку попадут абоненты одного тарифа. В таком случае может возникнуть проблема, когда мы будем обучать машину только на определение абонентов одного тарифа. Вероятность этого крайне мала, но все же стоит проверить."
   ]
  },
  {
   "cell_type": "code",
   "execution_count": 189,
   "id": "efeb3c18",
   "metadata": {},
   "outputs": [
    {
     "data": {
      "text/html": [
       "<div>\n",
       "<style scoped>\n",
       "    .dataframe tbody tr th:only-of-type {\n",
       "        vertical-align: middle;\n",
       "    }\n",
       "\n",
       "    .dataframe tbody tr th {\n",
       "        vertical-align: top;\n",
       "    }\n",
       "\n",
       "    .dataframe thead th {\n",
       "        text-align: right;\n",
       "    }\n",
       "</style>\n",
       "<table border=\"1\" class=\"dataframe\">\n",
       "  <thead>\n",
       "    <tr style=\"text-align: right;\">\n",
       "      <th></th>\n",
       "      <th>minutes</th>\n",
       "      <th>messages</th>\n",
       "      <th>mb_used</th>\n",
       "      <th>is_ultra</th>\n",
       "    </tr>\n",
       "  </thead>\n",
       "  <tbody>\n",
       "    <tr>\n",
       "      <th>count</th>\n",
       "      <td>3214.00</td>\n",
       "      <td>3214.00</td>\n",
       "      <td>3214.00</td>\n",
       "      <td>3214.00</td>\n",
       "    </tr>\n",
       "    <tr>\n",
       "      <th>mean</th>\n",
       "      <td>438.21</td>\n",
       "      <td>38.28</td>\n",
       "      <td>17207.67</td>\n",
       "      <td>0.31</td>\n",
       "    </tr>\n",
       "    <tr>\n",
       "      <th>std</th>\n",
       "      <td>234.57</td>\n",
       "      <td>36.15</td>\n",
       "      <td>7570.97</td>\n",
       "      <td>0.46</td>\n",
       "    </tr>\n",
       "    <tr>\n",
       "      <th>min</th>\n",
       "      <td>0.00</td>\n",
       "      <td>0.00</td>\n",
       "      <td>0.00</td>\n",
       "      <td>0.00</td>\n",
       "    </tr>\n",
       "    <tr>\n",
       "      <th>25%</th>\n",
       "      <td>274.58</td>\n",
       "      <td>9.00</td>\n",
       "      <td>12491.90</td>\n",
       "      <td>0.00</td>\n",
       "    </tr>\n",
       "    <tr>\n",
       "      <th>50%</th>\n",
       "      <td>430.60</td>\n",
       "      <td>30.00</td>\n",
       "      <td>16943.24</td>\n",
       "      <td>0.00</td>\n",
       "    </tr>\n",
       "    <tr>\n",
       "      <th>75%</th>\n",
       "      <td>571.93</td>\n",
       "      <td>57.00</td>\n",
       "      <td>21424.70</td>\n",
       "      <td>1.00</td>\n",
       "    </tr>\n",
       "    <tr>\n",
       "      <th>max</th>\n",
       "      <td>1632.06</td>\n",
       "      <td>224.00</td>\n",
       "      <td>49745.73</td>\n",
       "      <td>1.00</td>\n",
       "    </tr>\n",
       "  </tbody>\n",
       "</table>\n",
       "</div>"
      ],
      "text/plain": [
       "       minutes  messages   mb_used  is_ultra\n",
       "count  3214.00   3214.00   3214.00   3214.00\n",
       "mean    438.21     38.28  17207.67      0.31\n",
       "std     234.57     36.15   7570.97      0.46\n",
       "min       0.00      0.00      0.00      0.00\n",
       "25%     274.58      9.00  12491.90      0.00\n",
       "50%     430.60     30.00  16943.24      0.00\n",
       "75%     571.93     57.00  21424.70      1.00\n",
       "max    1632.06    224.00  49745.73      1.00"
      ]
     },
     "execution_count": 189,
     "metadata": {},
     "output_type": "execute_result"
    }
   ],
   "source": [
    "data.describe().round(2)"
   ]
  },
  {
   "cell_type": "code",
   "execution_count": 190,
   "id": "3f8e85df",
   "metadata": {},
   "outputs": [
    {
     "data": {
      "text/html": [
       "<div>\n",
       "<style scoped>\n",
       "    .dataframe tbody tr th:only-of-type {\n",
       "        vertical-align: middle;\n",
       "    }\n",
       "\n",
       "    .dataframe tbody tr th {\n",
       "        vertical-align: top;\n",
       "    }\n",
       "\n",
       "    .dataframe thead th {\n",
       "        text-align: right;\n",
       "    }\n",
       "</style>\n",
       "<table border=\"1\" class=\"dataframe\">\n",
       "  <thead>\n",
       "    <tr style=\"text-align: right;\">\n",
       "      <th></th>\n",
       "      <th>minutes</th>\n",
       "      <th>messages</th>\n",
       "      <th>mb_used</th>\n",
       "      <th>is_ultra</th>\n",
       "    </tr>\n",
       "  </thead>\n",
       "  <tbody>\n",
       "    <tr>\n",
       "      <th>count</th>\n",
       "      <td>1928.00</td>\n",
       "      <td>1928.00</td>\n",
       "      <td>1928.00</td>\n",
       "      <td>1928.00</td>\n",
       "    </tr>\n",
       "    <tr>\n",
       "      <th>mean</th>\n",
       "      <td>436.49</td>\n",
       "      <td>39.21</td>\n",
       "      <td>17007.87</td>\n",
       "      <td>0.31</td>\n",
       "    </tr>\n",
       "    <tr>\n",
       "      <th>std</th>\n",
       "      <td>232.47</td>\n",
       "      <td>36.69</td>\n",
       "      <td>7497.74</td>\n",
       "      <td>0.46</td>\n",
       "    </tr>\n",
       "    <tr>\n",
       "      <th>min</th>\n",
       "      <td>0.00</td>\n",
       "      <td>0.00</td>\n",
       "      <td>0.00</td>\n",
       "      <td>0.00</td>\n",
       "    </tr>\n",
       "    <tr>\n",
       "      <th>25%</th>\n",
       "      <td>275.52</td>\n",
       "      <td>10.00</td>\n",
       "      <td>12497.39</td>\n",
       "      <td>0.00</td>\n",
       "    </tr>\n",
       "    <tr>\n",
       "      <th>50%</th>\n",
       "      <td>427.94</td>\n",
       "      <td>31.00</td>\n",
       "      <td>16663.30</td>\n",
       "      <td>0.00</td>\n",
       "    </tr>\n",
       "    <tr>\n",
       "      <th>75%</th>\n",
       "      <td>563.80</td>\n",
       "      <td>58.00</td>\n",
       "      <td>21304.78</td>\n",
       "      <td>1.00</td>\n",
       "    </tr>\n",
       "    <tr>\n",
       "      <th>max</th>\n",
       "      <td>1390.22</td>\n",
       "      <td>201.00</td>\n",
       "      <td>44296.86</td>\n",
       "      <td>1.00</td>\n",
       "    </tr>\n",
       "  </tbody>\n",
       "</table>\n",
       "</div>"
      ],
      "text/plain": [
       "       minutes  messages   mb_used  is_ultra\n",
       "count  1928.00   1928.00   1928.00   1928.00\n",
       "mean    436.49     39.21  17007.87      0.31\n",
       "std     232.47     36.69   7497.74      0.46\n",
       "min       0.00      0.00      0.00      0.00\n",
       "25%     275.52     10.00  12497.39      0.00\n",
       "50%     427.94     31.00  16663.30      0.00\n",
       "75%     563.80     58.00  21304.78      1.00\n",
       "max    1390.22    201.00  44296.86      1.00"
      ]
     },
     "execution_count": 190,
     "metadata": {},
     "output_type": "execute_result"
    }
   ],
   "source": [
    "data_train.describe().round(2)"
   ]
  },
  {
   "cell_type": "code",
   "execution_count": 191,
   "id": "6f9137a3",
   "metadata": {},
   "outputs": [
    {
     "data": {
      "text/html": [
       "<div>\n",
       "<style scoped>\n",
       "    .dataframe tbody tr th:only-of-type {\n",
       "        vertical-align: middle;\n",
       "    }\n",
       "\n",
       "    .dataframe tbody tr th {\n",
       "        vertical-align: top;\n",
       "    }\n",
       "\n",
       "    .dataframe thead th {\n",
       "        text-align: right;\n",
       "    }\n",
       "</style>\n",
       "<table border=\"1\" class=\"dataframe\">\n",
       "  <thead>\n",
       "    <tr style=\"text-align: right;\">\n",
       "      <th></th>\n",
       "      <th>minutes</th>\n",
       "      <th>messages</th>\n",
       "      <th>mb_used</th>\n",
       "      <th>is_ultra</th>\n",
       "    </tr>\n",
       "  </thead>\n",
       "  <tbody>\n",
       "    <tr>\n",
       "      <th>count</th>\n",
       "      <td>643.00</td>\n",
       "      <td>643.00</td>\n",
       "      <td>643.00</td>\n",
       "      <td>643.00</td>\n",
       "    </tr>\n",
       "    <tr>\n",
       "      <th>mean</th>\n",
       "      <td>444.10</td>\n",
       "      <td>37.26</td>\n",
       "      <td>17564.26</td>\n",
       "      <td>0.29</td>\n",
       "    </tr>\n",
       "    <tr>\n",
       "      <th>std</th>\n",
       "      <td>231.01</td>\n",
       "      <td>35.36</td>\n",
       "      <td>7640.70</td>\n",
       "      <td>0.46</td>\n",
       "    </tr>\n",
       "    <tr>\n",
       "      <th>min</th>\n",
       "      <td>0.00</td>\n",
       "      <td>0.00</td>\n",
       "      <td>478.96</td>\n",
       "      <td>0.00</td>\n",
       "    </tr>\n",
       "    <tr>\n",
       "      <th>25%</th>\n",
       "      <td>284.15</td>\n",
       "      <td>8.00</td>\n",
       "      <td>12530.80</td>\n",
       "      <td>0.00</td>\n",
       "    </tr>\n",
       "    <tr>\n",
       "      <th>50%</th>\n",
       "      <td>442.67</td>\n",
       "      <td>29.00</td>\n",
       "      <td>17222.79</td>\n",
       "      <td>0.00</td>\n",
       "    </tr>\n",
       "    <tr>\n",
       "      <th>75%</th>\n",
       "      <td>587.56</td>\n",
       "      <td>57.00</td>\n",
       "      <td>21579.83</td>\n",
       "      <td>1.00</td>\n",
       "    </tr>\n",
       "    <tr>\n",
       "      <th>max</th>\n",
       "      <td>1632.06</td>\n",
       "      <td>224.00</td>\n",
       "      <td>49745.73</td>\n",
       "      <td>1.00</td>\n",
       "    </tr>\n",
       "  </tbody>\n",
       "</table>\n",
       "</div>"
      ],
      "text/plain": [
       "       minutes  messages   mb_used  is_ultra\n",
       "count   643.00    643.00    643.00    643.00\n",
       "mean    444.10     37.26  17564.26      0.29\n",
       "std     231.01     35.36   7640.70      0.46\n",
       "min       0.00      0.00    478.96      0.00\n",
       "25%     284.15      8.00  12530.80      0.00\n",
       "50%     442.67     29.00  17222.79      0.00\n",
       "75%     587.56     57.00  21579.83      1.00\n",
       "max    1632.06    224.00  49745.73      1.00"
      ]
     },
     "execution_count": 191,
     "metadata": {},
     "output_type": "execute_result"
    }
   ],
   "source": [
    "data_valid.describe().round(2)"
   ]
  },
  {
   "cell_type": "code",
   "execution_count": 192,
   "id": "2ecf06e8",
   "metadata": {},
   "outputs": [
    {
     "data": {
      "text/html": [
       "<div>\n",
       "<style scoped>\n",
       "    .dataframe tbody tr th:only-of-type {\n",
       "        vertical-align: middle;\n",
       "    }\n",
       "\n",
       "    .dataframe tbody tr th {\n",
       "        vertical-align: top;\n",
       "    }\n",
       "\n",
       "    .dataframe thead th {\n",
       "        text-align: right;\n",
       "    }\n",
       "</style>\n",
       "<table border=\"1\" class=\"dataframe\">\n",
       "  <thead>\n",
       "    <tr style=\"text-align: right;\">\n",
       "      <th></th>\n",
       "      <th>minutes</th>\n",
       "      <th>messages</th>\n",
       "      <th>mb_used</th>\n",
       "      <th>is_ultra</th>\n",
       "    </tr>\n",
       "  </thead>\n",
       "  <tbody>\n",
       "    <tr>\n",
       "      <th>count</th>\n",
       "      <td>643.00</td>\n",
       "      <td>643.00</td>\n",
       "      <td>643.00</td>\n",
       "      <td>643.00</td>\n",
       "    </tr>\n",
       "    <tr>\n",
       "      <th>mean</th>\n",
       "      <td>437.46</td>\n",
       "      <td>36.51</td>\n",
       "      <td>17450.18</td>\n",
       "      <td>0.32</td>\n",
       "    </tr>\n",
       "    <tr>\n",
       "      <th>std</th>\n",
       "      <td>244.44</td>\n",
       "      <td>35.25</td>\n",
       "      <td>7709.94</td>\n",
       "      <td>0.47</td>\n",
       "    </tr>\n",
       "    <tr>\n",
       "      <th>min</th>\n",
       "      <td>0.00</td>\n",
       "      <td>0.00</td>\n",
       "      <td>0.00</td>\n",
       "      <td>0.00</td>\n",
       "    </tr>\n",
       "    <tr>\n",
       "      <th>25%</th>\n",
       "      <td>268.48</td>\n",
       "      <td>8.50</td>\n",
       "      <td>12474.04</td>\n",
       "      <td>0.00</td>\n",
       "    </tr>\n",
       "    <tr>\n",
       "      <th>50%</th>\n",
       "      <td>424.20</td>\n",
       "      <td>27.00</td>\n",
       "      <td>17284.45</td>\n",
       "      <td>0.00</td>\n",
       "    </tr>\n",
       "    <tr>\n",
       "      <th>75%</th>\n",
       "      <td>579.20</td>\n",
       "      <td>55.00</td>\n",
       "      <td>21512.70</td>\n",
       "      <td>1.00</td>\n",
       "    </tr>\n",
       "    <tr>\n",
       "      <th>max</th>\n",
       "      <td>1566.45</td>\n",
       "      <td>223.00</td>\n",
       "      <td>45180.75</td>\n",
       "      <td>1.00</td>\n",
       "    </tr>\n",
       "  </tbody>\n",
       "</table>\n",
       "</div>"
      ],
      "text/plain": [
       "       minutes  messages   mb_used  is_ultra\n",
       "count   643.00    643.00    643.00    643.00\n",
       "mean    437.46     36.51  17450.18      0.32\n",
       "std     244.44     35.25   7709.94      0.47\n",
       "min       0.00      0.00      0.00      0.00\n",
       "25%     268.48      8.50  12474.04      0.00\n",
       "50%     424.20     27.00  17284.45      0.00\n",
       "75%     579.20     55.00  21512.70      1.00\n",
       "max    1566.45    223.00  45180.75      1.00"
      ]
     },
     "execution_count": 192,
     "metadata": {},
     "output_type": "execute_result"
    }
   ],
   "source": [
    "data_test.describe().round(2)"
   ]
  },
  {
   "cell_type": "markdown",
   "id": "143a9ade",
   "metadata": {},
   "source": [
    "**Краткий вывод**:\n",
    "\n",
    "Наши подвыборки очень похожи друг на друга и на всю нашу условную генеральную совокупность. Следовательно можем переходить к построению моделей."
   ]
  },
  {
   "cell_type": "markdown",
   "id": "f99c9e65",
   "metadata": {},
   "source": [
    "# ШАГ 3. Исследование различных моделей."
   ]
  },
  {
   "cell_type": "markdown",
   "id": "255b2ecd",
   "metadata": {},
   "source": [
    "## 3.1 Выявление целевого показателя и характеристик"
   ]
  },
  {
   "cell_type": "code",
   "execution_count": 193,
   "id": "25da16fa",
   "metadata": {},
   "outputs": [],
   "source": [
    "# Подготовим тренировочную и валидационную выборки\n",
    "train_features = data_train.drop(['is_ultra'], axis=1)\n",
    "train_target = data_train['is_ultra']\n",
    "valid_features = data_valid.drop(['is_ultra'], axis=1)\n",
    "valid_target = data_valid['is_ultra']"
   ]
  },
  {
   "cell_type": "code",
   "execution_count": 194,
   "id": "5986d692",
   "metadata": {},
   "outputs": [],
   "source": [
    "# Напишем функцию, которая расчитывает правильность на валидационной выборке\n",
    "def valid_accuracy_score(model):\n",
    "    valid_predictions = model.predict(valid_features)\n",
    "    return accuracy_score(valid_target, valid_predictions)"
   ]
  },
  {
   "cell_type": "markdown",
   "id": "85bf012f",
   "metadata": {},
   "source": [
    "## 3.2 Модели `Decision Tree`"
   ]
  },
  {
   "cell_type": "code",
   "execution_count": 195,
   "id": "65dcb90d",
   "metadata": {},
   "outputs": [],
   "source": [
    "def decision_tree_models(features, target, min_depth, max_depth):    \n",
    "    \n",
    "    \n",
    "    data = pd.DataFrame(columns = ['model', 'depth', 'accuracy'])\n",
    "    \n",
    "    \n",
    "    for depth in range(min_depth, max_depth+1):\n",
    "        model = DecisionTreeClassifier(max_depth=depth, random_state=rnd_st)\n",
    "        model = model.fit(features, target)\n",
    "        \n",
    "        row = pd.DataFrame([[model, depth, valid_accuracy_score(model)]], \n",
    "                           columns = ['model', 'depth', 'accuracy'])\n",
    "        \n",
    "        \n",
    "        data = data.append(row, ignore_index=True)\n",
    "\n",
    "    return data"
   ]
  },
  {
   "cell_type": "code",
   "execution_count": 196,
   "id": "e38b3cdd",
   "metadata": {
    "scrolled": false
   },
   "outputs": [
    {
     "data": {
      "text/html": [
       "<div>\n",
       "<style scoped>\n",
       "    .dataframe tbody tr th:only-of-type {\n",
       "        vertical-align: middle;\n",
       "    }\n",
       "\n",
       "    .dataframe tbody tr th {\n",
       "        vertical-align: top;\n",
       "    }\n",
       "\n",
       "    .dataframe thead th {\n",
       "        text-align: right;\n",
       "    }\n",
       "</style>\n",
       "<table border=\"1\" class=\"dataframe\">\n",
       "  <thead>\n",
       "    <tr style=\"text-align: right;\">\n",
       "      <th></th>\n",
       "      <th>model</th>\n",
       "      <th>depth</th>\n",
       "      <th>accuracy</th>\n",
       "      <th>dt_model</th>\n",
       "    </tr>\n",
       "  </thead>\n",
       "  <tbody>\n",
       "    <tr>\n",
       "      <th>3</th>\n",
       "      <td>DecisionTreeClassifier(max_depth=4, random_sta...</td>\n",
       "      <td>4</td>\n",
       "      <td>0.788491</td>\n",
       "      <td>True</td>\n",
       "    </tr>\n",
       "    <tr>\n",
       "      <th>4</th>\n",
       "      <td>DecisionTreeClassifier(max_depth=5, random_sta...</td>\n",
       "      <td>5</td>\n",
       "      <td>0.788491</td>\n",
       "      <td>True</td>\n",
       "    </tr>\n",
       "    <tr>\n",
       "      <th>2</th>\n",
       "      <td>DecisionTreeClassifier(max_depth=3, random_sta...</td>\n",
       "      <td>3</td>\n",
       "      <td>0.785381</td>\n",
       "      <td>True</td>\n",
       "    </tr>\n",
       "    <tr>\n",
       "      <th>1</th>\n",
       "      <td>DecisionTreeClassifier(max_depth=2, random_sta...</td>\n",
       "      <td>2</td>\n",
       "      <td>0.782271</td>\n",
       "      <td>True</td>\n",
       "    </tr>\n",
       "    <tr>\n",
       "      <th>8</th>\n",
       "      <td>DecisionTreeClassifier(max_depth=9, random_sta...</td>\n",
       "      <td>9</td>\n",
       "      <td>0.779160</td>\n",
       "      <td>True</td>\n",
       "    </tr>\n",
       "  </tbody>\n",
       "</table>\n",
       "</div>"
      ],
      "text/plain": [
       "                                               model depth  accuracy  dt_model\n",
       "3  DecisionTreeClassifier(max_depth=4, random_sta...     4  0.788491      True\n",
       "4  DecisionTreeClassifier(max_depth=5, random_sta...     5  0.788491      True\n",
       "2  DecisionTreeClassifier(max_depth=3, random_sta...     3  0.785381      True\n",
       "1  DecisionTreeClassifier(max_depth=2, random_sta...     2  0.782271      True\n",
       "8  DecisionTreeClassifier(max_depth=9, random_sta...     9  0.779160      True"
      ]
     },
     "execution_count": 196,
     "metadata": {},
     "output_type": "execute_result"
    }
   ],
   "source": [
    "train_decision_tree_models = decision_tree_models(train_features, train_target, 1, 10)\n",
    "\n",
    "top_5_decision_tree_models = (train_decision_tree_models\n",
    "                              .sort_values(by='accuracy', \n",
    "                                           ascending = False)\n",
    "                              .head())\n",
    "\n",
    "top_5_decision_tree_models['dt_model'] = True\n",
    "top_5_decision_tree_models"
   ]
  },
  {
   "cell_type": "markdown",
   "id": "b25bb9b6",
   "metadata": {},
   "source": [
    "**Краткий вывод**:\n",
    "\n",
    "* Наилучшей моделью дерева решений оказалась **модель с глубиной дерева равной 4 и 5**.\n",
    "* Точность пяти лучших моделй из класса дерева решений отличаются друг от друга на уровне десятых долей %. Поэтому сохраним все эти модели для проверки на тестовой выборке."
   ]
  },
  {
   "cell_type": "markdown",
   "id": "8e8d7917",
   "metadata": {},
   "source": [
    "## 3.3 Модели `Random forest`"
   ]
  },
  {
   "cell_type": "code",
   "execution_count": 197,
   "id": "188ecb4b",
   "metadata": {},
   "outputs": [],
   "source": [
    "def random_forest_tree_models(features, target, min_depth, max_depth, min_estimators, max_estimators):    \n",
    "    data = pd.DataFrame(columns = ['model', 'depth', 'n_estimators', 'accuracy'])\n",
    "    for est in range(min_estimators, max_estimators+1):\n",
    "        for depth in range(min_depth, max_depth+1):\n",
    "            model = RandomForestClassifier(n_estimators=est, max_depth=depth, random_state=rnd_st)\n",
    "            model = model.fit(features, target)\n",
    "            \n",
    "            row = pd.DataFrame([[model, depth, est, valid_accuracy_score(model)]], \n",
    "                           columns = ['model', 'depth', 'n_estimators', 'accuracy'])\n",
    "            \n",
    "            data = data.append(row, ignore_index=True)\n",
    "\n",
    "                        \n",
    "    return data"
   ]
  },
  {
   "cell_type": "code",
   "execution_count": 198,
   "id": "3181747e",
   "metadata": {
    "scrolled": true
   },
   "outputs": [
    {
     "data": {
      "text/html": [
       "<div>\n",
       "<style scoped>\n",
       "    .dataframe tbody tr th:only-of-type {\n",
       "        vertical-align: middle;\n",
       "    }\n",
       "\n",
       "    .dataframe tbody tr th {\n",
       "        vertical-align: top;\n",
       "    }\n",
       "\n",
       "    .dataframe thead th {\n",
       "        text-align: right;\n",
       "    }\n",
       "</style>\n",
       "<table border=\"1\" class=\"dataframe\">\n",
       "  <thead>\n",
       "    <tr style=\"text-align: right;\">\n",
       "      <th></th>\n",
       "      <th>model</th>\n",
       "      <th>depth</th>\n",
       "      <th>n_estimators</th>\n",
       "      <th>accuracy</th>\n",
       "      <th>rf_model</th>\n",
       "    </tr>\n",
       "  </thead>\n",
       "  <tbody>\n",
       "    <tr>\n",
       "      <th>86</th>\n",
       "      <td>(DecisionTreeClassifier(max_depth=7, max_featu...</td>\n",
       "      <td>7</td>\n",
       "      <td>9</td>\n",
       "      <td>0.796267</td>\n",
       "      <td>True</td>\n",
       "    </tr>\n",
       "    <tr>\n",
       "      <th>68</th>\n",
       "      <td>(DecisionTreeClassifier(max_depth=9, max_featu...</td>\n",
       "      <td>9</td>\n",
       "      <td>7</td>\n",
       "      <td>0.793157</td>\n",
       "      <td>True</td>\n",
       "    </tr>\n",
       "    <tr>\n",
       "      <th>96</th>\n",
       "      <td>(DecisionTreeClassifier(max_depth=7, max_featu...</td>\n",
       "      <td>7</td>\n",
       "      <td>10</td>\n",
       "      <td>0.791602</td>\n",
       "      <td>True</td>\n",
       "    </tr>\n",
       "    <tr>\n",
       "      <th>76</th>\n",
       "      <td>(DecisionTreeClassifier(max_depth=7, max_featu...</td>\n",
       "      <td>7</td>\n",
       "      <td>8</td>\n",
       "      <td>0.791602</td>\n",
       "      <td>True</td>\n",
       "    </tr>\n",
       "    <tr>\n",
       "      <th>66</th>\n",
       "      <td>(DecisionTreeClassifier(max_depth=7, max_featu...</td>\n",
       "      <td>7</td>\n",
       "      <td>7</td>\n",
       "      <td>0.791602</td>\n",
       "      <td>True</td>\n",
       "    </tr>\n",
       "  </tbody>\n",
       "</table>\n",
       "</div>"
      ],
      "text/plain": [
       "                                                model depth n_estimators  \\\n",
       "86  (DecisionTreeClassifier(max_depth=7, max_featu...     7            9   \n",
       "68  (DecisionTreeClassifier(max_depth=9, max_featu...     9            7   \n",
       "96  (DecisionTreeClassifier(max_depth=7, max_featu...     7           10   \n",
       "76  (DecisionTreeClassifier(max_depth=7, max_featu...     7            8   \n",
       "66  (DecisionTreeClassifier(max_depth=7, max_featu...     7            7   \n",
       "\n",
       "    accuracy  rf_model  \n",
       "86  0.796267      True  \n",
       "68  0.793157      True  \n",
       "96  0.791602      True  \n",
       "76  0.791602      True  \n",
       "66  0.791602      True  "
      ]
     },
     "execution_count": 198,
     "metadata": {},
     "output_type": "execute_result"
    }
   ],
   "source": [
    "train_random_forest_models = random_forest_tree_models(train_features, train_target, 1, 10, 1, 10)\n",
    "\n",
    "top_5_random_forest_models = (train_random_forest_models\n",
    "                              .sort_values(by='accuracy', \n",
    "                                           ascending = False)\n",
    "                              .head())\n",
    "\n",
    "top_5_random_forest_models['rf_model'] = True\n",
    "top_5_random_forest_models"
   ]
  },
  {
   "cell_type": "markdown",
   "id": "48b3c8a6",
   "metadata": {},
   "source": [
    "**Краткий вывод**:\n",
    "\n",
    "* Наилучшей моделью случайного леса оказалась модель с 9 деревьями и глубиной деревьев равной 7.\n",
    "* Точность пяти лучших моделй из класса дерева решений отличаются друг от друга на уровне десятых долей %. Поэтому сохраним все эти модели для проверки на тестовой выборке."
   ]
  },
  {
   "cell_type": "markdown",
   "id": "e3d85fe0",
   "metadata": {},
   "source": [
    "## 3.4 Модель `Logistic regression`"
   ]
  },
  {
   "cell_type": "code",
   "execution_count": 199,
   "id": "70fc0bdb",
   "metadata": {},
   "outputs": [],
   "source": [
    "def logistic_regression_model(features, target):\n",
    "    data = pd.DataFrame(columns = ['model', 'accuracy'])\n",
    "    model = LogisticRegression(random_state=rnd_st)\n",
    "    model.fit(features, target)\n",
    "    row = pd.DataFrame([[model, valid_accuracy_score(model)]], \n",
    "                       columns = ['model',  'accuracy'])\n",
    "    \n",
    "    data = data.append([row], ignore_index=False)\n",
    "    return (data)"
   ]
  },
  {
   "cell_type": "code",
   "execution_count": 200,
   "id": "0e393b15",
   "metadata": {},
   "outputs": [
    {
     "data": {
      "text/html": [
       "<div>\n",
       "<style scoped>\n",
       "    .dataframe tbody tr th:only-of-type {\n",
       "        vertical-align: middle;\n",
       "    }\n",
       "\n",
       "    .dataframe tbody tr th {\n",
       "        vertical-align: top;\n",
       "    }\n",
       "\n",
       "    .dataframe thead th {\n",
       "        text-align: right;\n",
       "    }\n",
       "</style>\n",
       "<table border=\"1\" class=\"dataframe\">\n",
       "  <thead>\n",
       "    <tr style=\"text-align: right;\">\n",
       "      <th></th>\n",
       "      <th>model</th>\n",
       "      <th>accuracy</th>\n",
       "      <th>lr_model</th>\n",
       "    </tr>\n",
       "  </thead>\n",
       "  <tbody>\n",
       "    <tr>\n",
       "      <th>0</th>\n",
       "      <td>LogisticRegression(random_state=12345)</td>\n",
       "      <td>0.707621</td>\n",
       "      <td>True</td>\n",
       "    </tr>\n",
       "  </tbody>\n",
       "</table>\n",
       "</div>"
      ],
      "text/plain": [
       "                                    model  accuracy  lr_model\n",
       "0  LogisticRegression(random_state=12345)  0.707621      True"
      ]
     },
     "execution_count": 200,
     "metadata": {},
     "output_type": "execute_result"
    }
   ],
   "source": [
    "logistic_regression = logistic_regression_model(train_features, train_target)\n",
    "logistic_regression['lr_model'] = True\n",
    "logistic_regression"
   ]
  },
  {
   "cell_type": "markdown",
   "id": "f915f897",
   "metadata": {},
   "source": [
    "**Краткий вывод**:\n",
    "\n",
    "* Точность логистической регресии значительно уступает моделям из классов дерева решений и случайного леса. Однако сохраним эту модель для проверки ее на тестовой выборке."
   ]
  },
  {
   "cell_type": "markdown",
   "id": "6a6df63d",
   "metadata": {},
   "source": [
    "## ШАГ 4. Проверка качества моделей на тестовой выборке"
   ]
  },
  {
   "cell_type": "code",
   "execution_count": 201,
   "id": "e3b21796",
   "metadata": {
    "scrolled": true
   },
   "outputs": [
    {
     "data": {
      "text/html": [
       "<div>\n",
       "<style scoped>\n",
       "    .dataframe tbody tr th:only-of-type {\n",
       "        vertical-align: middle;\n",
       "    }\n",
       "\n",
       "    .dataframe tbody tr th {\n",
       "        vertical-align: top;\n",
       "    }\n",
       "\n",
       "    .dataframe thead th {\n",
       "        text-align: right;\n",
       "    }\n",
       "</style>\n",
       "<table border=\"1\" class=\"dataframe\">\n",
       "  <thead>\n",
       "    <tr style=\"text-align: right;\">\n",
       "      <th></th>\n",
       "      <th>model</th>\n",
       "      <th>depth</th>\n",
       "      <th>n_estimators</th>\n",
       "      <th>accuracy</th>\n",
       "      <th>rf_model</th>\n",
       "      <th>dt_model</th>\n",
       "      <th>lr_model</th>\n",
       "    </tr>\n",
       "  </thead>\n",
       "  <tbody>\n",
       "    <tr>\n",
       "      <th>0</th>\n",
       "      <td>(DecisionTreeClassifier(max_depth=7, max_featu...</td>\n",
       "      <td>7</td>\n",
       "      <td>9</td>\n",
       "      <td>0.796267</td>\n",
       "      <td>True</td>\n",
       "      <td>False</td>\n",
       "      <td>False</td>\n",
       "    </tr>\n",
       "    <tr>\n",
       "      <th>1</th>\n",
       "      <td>(DecisionTreeClassifier(max_depth=9, max_featu...</td>\n",
       "      <td>9</td>\n",
       "      <td>7</td>\n",
       "      <td>0.793157</td>\n",
       "      <td>True</td>\n",
       "      <td>False</td>\n",
       "      <td>False</td>\n",
       "    </tr>\n",
       "    <tr>\n",
       "      <th>2</th>\n",
       "      <td>(DecisionTreeClassifier(max_depth=7, max_featu...</td>\n",
       "      <td>7</td>\n",
       "      <td>10</td>\n",
       "      <td>0.791602</td>\n",
       "      <td>True</td>\n",
       "      <td>False</td>\n",
       "      <td>False</td>\n",
       "    </tr>\n",
       "    <tr>\n",
       "      <th>3</th>\n",
       "      <td>(DecisionTreeClassifier(max_depth=7, max_featu...</td>\n",
       "      <td>7</td>\n",
       "      <td>8</td>\n",
       "      <td>0.791602</td>\n",
       "      <td>True</td>\n",
       "      <td>False</td>\n",
       "      <td>False</td>\n",
       "    </tr>\n",
       "    <tr>\n",
       "      <th>4</th>\n",
       "      <td>(DecisionTreeClassifier(max_depth=7, max_featu...</td>\n",
       "      <td>7</td>\n",
       "      <td>7</td>\n",
       "      <td>0.791602</td>\n",
       "      <td>True</td>\n",
       "      <td>False</td>\n",
       "      <td>False</td>\n",
       "    </tr>\n",
       "    <tr>\n",
       "      <th>5</th>\n",
       "      <td>DecisionTreeClassifier(max_depth=4, random_sta...</td>\n",
       "      <td>4</td>\n",
       "      <td>NaN</td>\n",
       "      <td>0.788491</td>\n",
       "      <td>False</td>\n",
       "      <td>True</td>\n",
       "      <td>False</td>\n",
       "    </tr>\n",
       "    <tr>\n",
       "      <th>6</th>\n",
       "      <td>DecisionTreeClassifier(max_depth=5, random_sta...</td>\n",
       "      <td>5</td>\n",
       "      <td>NaN</td>\n",
       "      <td>0.788491</td>\n",
       "      <td>False</td>\n",
       "      <td>True</td>\n",
       "      <td>False</td>\n",
       "    </tr>\n",
       "    <tr>\n",
       "      <th>7</th>\n",
       "      <td>DecisionTreeClassifier(max_depth=3, random_sta...</td>\n",
       "      <td>3</td>\n",
       "      <td>NaN</td>\n",
       "      <td>0.785381</td>\n",
       "      <td>False</td>\n",
       "      <td>True</td>\n",
       "      <td>False</td>\n",
       "    </tr>\n",
       "    <tr>\n",
       "      <th>8</th>\n",
       "      <td>DecisionTreeClassifier(max_depth=2, random_sta...</td>\n",
       "      <td>2</td>\n",
       "      <td>NaN</td>\n",
       "      <td>0.782271</td>\n",
       "      <td>False</td>\n",
       "      <td>True</td>\n",
       "      <td>False</td>\n",
       "    </tr>\n",
       "    <tr>\n",
       "      <th>9</th>\n",
       "      <td>DecisionTreeClassifier(max_depth=9, random_sta...</td>\n",
       "      <td>9</td>\n",
       "      <td>NaN</td>\n",
       "      <td>0.779160</td>\n",
       "      <td>False</td>\n",
       "      <td>True</td>\n",
       "      <td>False</td>\n",
       "    </tr>\n",
       "    <tr>\n",
       "      <th>10</th>\n",
       "      <td>LogisticRegression(random_state=12345)</td>\n",
       "      <td>NaN</td>\n",
       "      <td>NaN</td>\n",
       "      <td>0.707621</td>\n",
       "      <td>False</td>\n",
       "      <td>False</td>\n",
       "      <td>True</td>\n",
       "    </tr>\n",
       "  </tbody>\n",
       "</table>\n",
       "</div>"
      ],
      "text/plain": [
       "                                                model depth n_estimators  \\\n",
       "0   (DecisionTreeClassifier(max_depth=7, max_featu...     7            9   \n",
       "1   (DecisionTreeClassifier(max_depth=9, max_featu...     9            7   \n",
       "2   (DecisionTreeClassifier(max_depth=7, max_featu...     7           10   \n",
       "3   (DecisionTreeClassifier(max_depth=7, max_featu...     7            8   \n",
       "4   (DecisionTreeClassifier(max_depth=7, max_featu...     7            7   \n",
       "5   DecisionTreeClassifier(max_depth=4, random_sta...     4          NaN   \n",
       "6   DecisionTreeClassifier(max_depth=5, random_sta...     5          NaN   \n",
       "7   DecisionTreeClassifier(max_depth=3, random_sta...     3          NaN   \n",
       "8   DecisionTreeClassifier(max_depth=2, random_sta...     2          NaN   \n",
       "9   DecisionTreeClassifier(max_depth=9, random_sta...     9          NaN   \n",
       "10             LogisticRegression(random_state=12345)   NaN          NaN   \n",
       "\n",
       "    accuracy  rf_model  dt_model  lr_model  \n",
       "0   0.796267      True     False     False  \n",
       "1   0.793157      True     False     False  \n",
       "2   0.791602      True     False     False  \n",
       "3   0.791602      True     False     False  \n",
       "4   0.791602      True     False     False  \n",
       "5   0.788491     False      True     False  \n",
       "6   0.788491     False      True     False  \n",
       "7   0.785381     False      True     False  \n",
       "8   0.782271     False      True     False  \n",
       "9   0.779160     False      True     False  \n",
       "10  0.707621     False     False      True  "
      ]
     },
     "execution_count": 201,
     "metadata": {},
     "output_type": "execute_result"
    }
   ],
   "source": [
    "top_models = top_5_random_forest_models.append(top_5_decision_tree_models)\n",
    "top_models = top_models.append(logistic_regression)\n",
    "top_models.loc[:, ['rf_model', 'dt_model', 'lr_model']] = (top_models\n",
    "                                                           .loc[:, ['rf_model', 'dt_model', 'lr_model']]\n",
    "                                                           .fillna(False))\n",
    "top_models = top_models.sort_values(by='accuracy', ascending = False).reset_index(drop=True)\n",
    "top_models"
   ]
  },
  {
   "cell_type": "code",
   "execution_count": 202,
   "id": "3f8a43be",
   "metadata": {},
   "outputs": [],
   "source": [
    "test_features = data_test.drop(['is_ultra'], axis=1)\n",
    "test_target = data_test['is_ultra']"
   ]
  },
  {
   "cell_type": "code",
   "execution_count": 203,
   "id": "eb377d13",
   "metadata": {
    "scrolled": false
   },
   "outputs": [
    {
     "data": {
      "text/html": [
       "<div>\n",
       "<style scoped>\n",
       "    .dataframe tbody tr th:only-of-type {\n",
       "        vertical-align: middle;\n",
       "    }\n",
       "\n",
       "    .dataframe tbody tr th {\n",
       "        vertical-align: top;\n",
       "    }\n",
       "\n",
       "    .dataframe thead th {\n",
       "        text-align: right;\n",
       "    }\n",
       "</style>\n",
       "<table border=\"1\" class=\"dataframe\">\n",
       "  <thead>\n",
       "    <tr style=\"text-align: right;\">\n",
       "      <th></th>\n",
       "      <th>model</th>\n",
       "      <th>depth</th>\n",
       "      <th>n_estimators</th>\n",
       "      <th>accuracy</th>\n",
       "      <th>rf_model</th>\n",
       "      <th>dt_model</th>\n",
       "      <th>lr_model</th>\n",
       "      <th>test_accuracy</th>\n",
       "    </tr>\n",
       "  </thead>\n",
       "  <tbody>\n",
       "    <tr>\n",
       "      <th>0</th>\n",
       "      <td>(DecisionTreeClassifier(max_depth=7, max_featu...</td>\n",
       "      <td>7</td>\n",
       "      <td>9</td>\n",
       "      <td>0.796267</td>\n",
       "      <td>True</td>\n",
       "      <td>False</td>\n",
       "      <td>False</td>\n",
       "      <td>0.804044</td>\n",
       "    </tr>\n",
       "    <tr>\n",
       "      <th>1</th>\n",
       "      <td>(DecisionTreeClassifier(max_depth=9, max_featu...</td>\n",
       "      <td>9</td>\n",
       "      <td>7</td>\n",
       "      <td>0.793157</td>\n",
       "      <td>True</td>\n",
       "      <td>False</td>\n",
       "      <td>False</td>\n",
       "      <td>0.804044</td>\n",
       "    </tr>\n",
       "    <tr>\n",
       "      <th>2</th>\n",
       "      <td>(DecisionTreeClassifier(max_depth=7, max_featu...</td>\n",
       "      <td>7</td>\n",
       "      <td>10</td>\n",
       "      <td>0.791602</td>\n",
       "      <td>True</td>\n",
       "      <td>False</td>\n",
       "      <td>False</td>\n",
       "      <td>0.802488</td>\n",
       "    </tr>\n",
       "    <tr>\n",
       "      <th>3</th>\n",
       "      <td>(DecisionTreeClassifier(max_depth=7, max_featu...</td>\n",
       "      <td>7</td>\n",
       "      <td>8</td>\n",
       "      <td>0.791602</td>\n",
       "      <td>True</td>\n",
       "      <td>False</td>\n",
       "      <td>False</td>\n",
       "      <td>0.800933</td>\n",
       "    </tr>\n",
       "    <tr>\n",
       "      <th>4</th>\n",
       "      <td>(DecisionTreeClassifier(max_depth=7, max_featu...</td>\n",
       "      <td>7</td>\n",
       "      <td>7</td>\n",
       "      <td>0.791602</td>\n",
       "      <td>True</td>\n",
       "      <td>False</td>\n",
       "      <td>False</td>\n",
       "      <td>0.800933</td>\n",
       "    </tr>\n",
       "    <tr>\n",
       "      <th>5</th>\n",
       "      <td>DecisionTreeClassifier(max_depth=4, random_sta...</td>\n",
       "      <td>4</td>\n",
       "      <td>NaN</td>\n",
       "      <td>0.788491</td>\n",
       "      <td>False</td>\n",
       "      <td>True</td>\n",
       "      <td>False</td>\n",
       "      <td>0.780715</td>\n",
       "    </tr>\n",
       "    <tr>\n",
       "      <th>6</th>\n",
       "      <td>DecisionTreeClassifier(max_depth=5, random_sta...</td>\n",
       "      <td>5</td>\n",
       "      <td>NaN</td>\n",
       "      <td>0.788491</td>\n",
       "      <td>False</td>\n",
       "      <td>True</td>\n",
       "      <td>False</td>\n",
       "      <td>0.788491</td>\n",
       "    </tr>\n",
       "    <tr>\n",
       "      <th>7</th>\n",
       "      <td>DecisionTreeClassifier(max_depth=3, random_sta...</td>\n",
       "      <td>3</td>\n",
       "      <td>NaN</td>\n",
       "      <td>0.785381</td>\n",
       "      <td>False</td>\n",
       "      <td>True</td>\n",
       "      <td>False</td>\n",
       "      <td>0.779160</td>\n",
       "    </tr>\n",
       "    <tr>\n",
       "      <th>8</th>\n",
       "      <td>DecisionTreeClassifier(max_depth=2, random_sta...</td>\n",
       "      <td>2</td>\n",
       "      <td>NaN</td>\n",
       "      <td>0.782271</td>\n",
       "      <td>False</td>\n",
       "      <td>True</td>\n",
       "      <td>False</td>\n",
       "      <td>0.774495</td>\n",
       "    </tr>\n",
       "    <tr>\n",
       "      <th>9</th>\n",
       "      <td>DecisionTreeClassifier(max_depth=9, random_sta...</td>\n",
       "      <td>9</td>\n",
       "      <td>NaN</td>\n",
       "      <td>0.779160</td>\n",
       "      <td>False</td>\n",
       "      <td>True</td>\n",
       "      <td>False</td>\n",
       "      <td>0.783826</td>\n",
       "    </tr>\n",
       "    <tr>\n",
       "      <th>10</th>\n",
       "      <td>LogisticRegression(random_state=12345)</td>\n",
       "      <td>NaN</td>\n",
       "      <td>NaN</td>\n",
       "      <td>0.707621</td>\n",
       "      <td>False</td>\n",
       "      <td>False</td>\n",
       "      <td>True</td>\n",
       "      <td>0.698289</td>\n",
       "    </tr>\n",
       "  </tbody>\n",
       "</table>\n",
       "</div>"
      ],
      "text/plain": [
       "                                                model depth n_estimators  \\\n",
       "0   (DecisionTreeClassifier(max_depth=7, max_featu...     7            9   \n",
       "1   (DecisionTreeClassifier(max_depth=9, max_featu...     9            7   \n",
       "2   (DecisionTreeClassifier(max_depth=7, max_featu...     7           10   \n",
       "3   (DecisionTreeClassifier(max_depth=7, max_featu...     7            8   \n",
       "4   (DecisionTreeClassifier(max_depth=7, max_featu...     7            7   \n",
       "5   DecisionTreeClassifier(max_depth=4, random_sta...     4          NaN   \n",
       "6   DecisionTreeClassifier(max_depth=5, random_sta...     5          NaN   \n",
       "7   DecisionTreeClassifier(max_depth=3, random_sta...     3          NaN   \n",
       "8   DecisionTreeClassifier(max_depth=2, random_sta...     2          NaN   \n",
       "9   DecisionTreeClassifier(max_depth=9, random_sta...     9          NaN   \n",
       "10             LogisticRegression(random_state=12345)   NaN          NaN   \n",
       "\n",
       "    accuracy  rf_model  dt_model  lr_model  test_accuracy  \n",
       "0   0.796267      True     False     False       0.804044  \n",
       "1   0.793157      True     False     False       0.804044  \n",
       "2   0.791602      True     False     False       0.802488  \n",
       "3   0.791602      True     False     False       0.800933  \n",
       "4   0.791602      True     False     False       0.800933  \n",
       "5   0.788491     False      True     False       0.780715  \n",
       "6   0.788491     False      True     False       0.788491  \n",
       "7   0.785381     False      True     False       0.779160  \n",
       "8   0.782271     False      True     False       0.774495  \n",
       "9   0.779160     False      True     False       0.783826  \n",
       "10  0.707621     False     False      True       0.698289  "
      ]
     },
     "execution_count": 203,
     "metadata": {},
     "output_type": "execute_result"
    }
   ],
   "source": [
    "i=0\n",
    "for model in top_models['model']:\n",
    "    test_predictions = model.predict(test_features)\n",
    "    test_accuracy = accuracy_score(test_target, test_predictions)\n",
    "    top_models.loc[i, 'test_accuracy'] = test_accuracy\n",
    "    i += 1\n",
    "    \n",
    "top_models  "
   ]
  },
  {
   "cell_type": "code",
   "execution_count": 204,
   "id": "19cbe085",
   "metadata": {},
   "outputs": [
    {
     "name": "stdout",
     "output_type": "stream",
     "text": [
      "По точности прогноза на валидационной выборке наилучшей моделью следует считать:\n",
      "RandomForestClassifier(max_depth=7, n_estimators=9, random_state=12345)\n",
      "\n",
      "По точности прогноза на тестовой выборке наилучшей моделью следует считать:\n",
      "RandomForestClassifier(max_depth=7, n_estimators=9, random_state=12345)\n",
      "\n",
      "По точности прогноза на тестовой выборке наилучшей моделью дерева решений следует считать:\n",
      "DecisionTreeClassifier(max_depth=5, random_state=12345)\n"
     ]
    }
   ],
   "source": [
    "best_model_index = top_models['accuracy'].idxmax()\n",
    "best_model = top_models.loc[best_model_index, 'model']\n",
    "print('По точности прогноза на валидационной выборке наилучшей моделью следует считать:')\n",
    "print(f'{best_model}')\n",
    "\n",
    "print()\n",
    "\n",
    "best_model_index = top_models['test_accuracy'].idxmax()\n",
    "best_model = top_models.loc[best_model_index, 'model']\n",
    "print('По точности прогноза на тестовой выборке наилучшей моделью следует считать:')\n",
    "print(f'{best_model}')\n",
    "\n",
    "print()\n",
    "\n",
    "best_model_index = top_models.loc[top_models['dt_model'] == True ,'test_accuracy'].idxmax()\n",
    "best_model = top_models.loc[best_model_index, 'model']\n",
    "print('По точности прогноза на тестовой выборке наилучшей моделью дерева решений следует считать:')\n",
    "print(f'{best_model}')"
   ]
  },
  {
   "cell_type": "markdown",
   "id": "39289d9d",
   "metadata": {},
   "source": [
    "**Краткий вывод**:\n",
    "\n",
    "* Наилучшим классом моделей ожидаемо стал случайный лес.\n",
    "* Наилучшей моделью с точки зрения точности прогноза **на тестовой выборке** оказалась модель **RandomForestClassifier(max_depth=7, n_estimators=9, random_state=12345)**\n",
    "* Наилучшей моделью с точки зрения точности прогноза **на валидационной выборке** оказалась модель **RandomForestClassifier(max_depth=7, n_estimators=9, random_state=12345)**\n",
    "* По точности прогноза **на тестовой выборке** наилучшей моделью **дерева решений** следует считать **DecisionTreeClassifier(max_depth=5, random_state=12345)**\n",
    "* Модель логистической регрессии показала наихудший результат"
   ]
  },
  {
   "cell_type": "markdown",
   "id": "33452fde",
   "metadata": {},
   "source": [
    "ПОДСКАЖИТЕ КАК ПРОВЕРИТЬ А ВМЕНЯЕМОСТЬ. ЧТО ПОНИМАЮТ ПОД ВМЕНЯЕМОСТЬЮ?"
   ]
  },
  {
   "cell_type": "code",
   "execution_count": 205,
   "id": "e4ee8738",
   "metadata": {},
   "outputs": [
    {
     "data": {
      "text/plain": [
       "RandomForestClassifier(max_depth=7, n_estimators=9, random_state=12345)"
      ]
     },
     "execution_count": 205,
     "metadata": {},
     "output_type": "execute_result"
    }
   ],
   "source": [
    "#  Наилучшей оказалась модель RandomForestClassifier(max_depth=7, n_estimators=9, random_state=12345)\n",
    "#  Её и сохраним.\n",
    "best_model_index = top_models['accuracy'].idxmax()\n",
    "best_model = top_models.loc[best_model_index, 'model']\n",
    "best_model"
   ]
  },
  {
   "cell_type": "code",
   "execution_count": 206,
   "id": "77370e00",
   "metadata": {},
   "outputs": [],
   "source": [
    "best_model_test_predictions = best_model.predict(test_features)\n",
    "\n",
    "best_model_test_predictions = pd.Series(best_model_test_predictions, index = test_target.index)"
   ]
  },
  {
   "cell_type": "code",
   "execution_count": 207,
   "id": "5a258ffb",
   "metadata": {},
   "outputs": [
    {
     "data": {
      "text/plain": [
       "array([[413,  27],\n",
       "       [ 99, 104]], dtype=int64)"
      ]
     },
     "execution_count": 207,
     "metadata": {},
     "output_type": "execute_result"
    }
   ],
   "source": [
    "confuse_matrix = confusion_matrix(test_target, best_model_test_predictions)\n",
    "confuse_matrix"
   ]
  },
  {
   "cell_type": "markdown",
   "id": "1ed74572",
   "metadata": {},
   "source": [
    "* Из 440 тарифов **`Смарт`** модель верно предсказала 413 наблюдений (27 наблюдений тарифа **`Смарт`** модель определила как `Ультра`)\n",
    "* Из 203 тарифов **`Ультра`** модель верно предсказала 104 наблюдений (99 наблюдений тарифа **`Ультра`** модель определила как `Смарт`)"
   ]
  },
  {
   "cell_type": "code",
   "execution_count": 208,
   "id": "a86af3a5",
   "metadata": {},
   "outputs": [
    {
     "data": {
      "text/plain": [
       "0.7938931297709924"
      ]
     },
     "execution_count": 208,
     "metadata": {},
     "output_type": "execute_result"
    }
   ],
   "source": [
    "precision_score(test_target, best_model_test_predictions)"
   ]
  },
  {
   "cell_type": "code",
   "execution_count": 209,
   "id": "008a571c",
   "metadata": {},
   "outputs": [
    {
     "name": "stdout",
     "output_type": "stream",
     "text": [
      "True\n"
     ]
    },
    {
     "data": {
      "text/plain": [
       "0.5123152709359606"
      ]
     },
     "execution_count": 209,
     "metadata": {},
     "output_type": "execute_result"
    }
   ],
   "source": [
    "recall = recall_score(test_target, best_model_test_predictions)\n",
    "print(r_1_share == 104/(104+99))\n",
    "r_1_share"
   ]
  },
  {
   "cell_type": "markdown",
   "id": "50a6986e",
   "metadata": {},
   "source": [
    "Создадим случайный процесс определения тарифа. Где вероятности определния тарифов пропорциональны долям этих тарифов в генеральной совокупности."
   ]
  },
  {
   "cell_type": "code",
   "execution_count": 210,
   "id": "a2a4977a",
   "metadata": {},
   "outputs": [
    {
     "data": {
      "text/plain": [
       "0.30647168637212197"
      ]
     },
     "execution_count": 210,
     "metadata": {},
     "output_type": "execute_result"
    }
   ],
   "source": [
    "data['is_ultra'].mean()"
   ]
  },
  {
   "cell_type": "code",
   "execution_count": 211,
   "id": "9d2e63d3",
   "metadata": {},
   "outputs": [],
   "source": [
    "random_predictions = []\n",
    "for i in range(1, len(test_target)+1):\n",
    "    random_number = random.randint(0, 1000000000000000000)\n",
    "    if random_number > data['is_ultra'].mean()*100000000000000000:\n",
    "        random_predictions.append(0)\n",
    "    else:\n",
    "        random_predictions.append(1)"
   ]
  },
  {
   "cell_type": "code",
   "execution_count": 212,
   "id": "3fa407ad",
   "metadata": {
    "scrolled": true
   },
   "outputs": [],
   "source": [
    "random_predictions = pd.Series(random_prediction, index = test_target.index)"
   ]
  },
  {
   "cell_type": "markdown",
   "id": "8e15d308",
   "metadata": {},
   "source": [
    "### Проверка на вменяемость"
   ]
  },
  {
   "cell_type": "code",
   "execution_count": 214,
   "id": "08510064",
   "metadata": {},
   "outputs": [
    {
     "name": "stdout",
     "output_type": "stream",
     "text": [
      "Наша лучшая модель предсказывает лучше, чем модель случайного выбора тарифа,\n",
      "в которой вероятности выбора из двух тарифов пропорциональны их долям в генеральной совокупности.\n"
     ]
    }
   ],
   "source": [
    "random_accuracy = accuracy_score(test_target, random_predictions)\n",
    "best_model_accuracy = accuracy_score(test_target, best_model_test_predictions)\n",
    "\n",
    "if best_model_accuracy > random_accuracy:\n",
    "    print('Наша лучшая модель предсказывает лучше, чем модель случайного выбора тарифа,')\n",
    "    print('в которой вероятности выбора из двух тарифов пропорциональны их долям в генеральной совокупности.')\n",
    "else:\n",
    "    print('Наша лучшая модель предсказывает ХУЖЕ, чем модель случайного выбора тарифа.')\n",
    "    print('Нужны другие способы моделирования.')"
   ]
  }
 ],
 "metadata": {
  "kernelspec": {
   "display_name": "Python 3 (ipykernel)",
   "language": "python",
   "name": "python3"
  },
  "language_info": {
   "codemirror_mode": {
    "name": "ipython",
    "version": 3
   },
   "file_extension": ".py",
   "mimetype": "text/x-python",
   "name": "python",
   "nbconvert_exporter": "python",
   "pygments_lexer": "ipython3",
   "version": "3.9.7"
  },
  "toc": {
   "base_numbering": 1,
   "nav_menu": {},
   "number_sections": true,
   "sideBar": true,
   "skip_h1_title": true,
   "title_cell": "Table of Contents",
   "title_sidebar": "Contents",
   "toc_cell": false,
   "toc_position": {},
   "toc_section_display": true,
   "toc_window_display": false
  }
 },
 "nbformat": 4,
 "nbformat_minor": 5
}
